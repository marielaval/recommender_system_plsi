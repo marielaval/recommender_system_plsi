{
 "cells": [
  {
   "cell_type": "markdown",
   "metadata": {},
   "source": [
    "# Implementation of PLSI algorithm using Spark "
   ]
  },
  {
   "cell_type": "code",
   "execution_count": 1,
   "metadata": {},
   "outputs": [],
   "source": [
    "import pandas as pd\n",
    "import time\n",
    "import numpy as np\n",
    "import matplotlib.pyplot as plt\n",
    "import findspark\n",
    "findspark.init(\"spark-2.2.3-bin-hadoop2.6\")\n",
    "import pyspark\n",
    "from numpy import random\n",
    "import math\n"
   ]
  },
  {
   "cell_type": "code",
   "execution_count": 2,
   "metadata": {},
   "outputs": [],
   "source": [
    "from pyspark import sql"
   ]
  },
  {
   "cell_type": "markdown",
   "metadata": {},
   "source": [
    "## 1. Prepare the environment"
   ]
  },
  {
   "cell_type": "markdown",
   "metadata": {},
   "source": [
    "### Import the data"
   ]
  },
  {
   "cell_type": "markdown",
   "metadata": {},
   "source": [
    "We will implement the PLSI algorithm on the Movielens dataset. To simplify our task, we will start by implementing the PLSI algorithm on a reduced version of the Movielens dataset (\"ratings_short\"), which contains 100 836 observations. "
   ]
  },
  {
   "cell_type": "code",
   "execution_count": 4,
   "metadata": {},
   "outputs": [
    {
     "data": {
      "text/html": [
       "<div>\n",
       "<style scoped>\n",
       "    .dataframe tbody tr th:only-of-type {\n",
       "        vertical-align: middle;\n",
       "    }\n",
       "\n",
       "    .dataframe tbody tr th {\n",
       "        vertical-align: top;\n",
       "    }\n",
       "\n",
       "    .dataframe thead th {\n",
       "        text-align: right;\n",
       "    }\n",
       "</style>\n",
       "<table border=\"1\" class=\"dataframe\">\n",
       "  <thead>\n",
       "    <tr style=\"text-align: right;\">\n",
       "      <th></th>\n",
       "      <th>user_id</th>\n",
       "      <th>user_username</th>\n",
       "      <th>movie_id</th>\n",
       "      <th>rating</th>\n",
       "    </tr>\n",
       "  </thead>\n",
       "  <tbody>\n",
       "    <tr>\n",
       "      <th>0</th>\n",
       "      <td>2</td>\n",
       "      <td>William</td>\n",
       "      <td>1768</td>\n",
       "      <td>1</td>\n",
       "    </tr>\n",
       "    <tr>\n",
       "      <th>1</th>\n",
       "      <td>3</td>\n",
       "      <td>James</td>\n",
       "      <td>615</td>\n",
       "      <td>3</td>\n",
       "    </tr>\n",
       "    <tr>\n",
       "      <th>2</th>\n",
       "      <td>7</td>\n",
       "      <td>Joseph</td>\n",
       "      <td>82</td>\n",
       "      <td>3</td>\n",
       "    </tr>\n",
       "    <tr>\n",
       "      <th>3</th>\n",
       "      <td>7</td>\n",
       "      <td>Joseph</td>\n",
       "      <td>532</td>\n",
       "      <td>3</td>\n",
       "    </tr>\n",
       "    <tr>\n",
       "      <th>4</th>\n",
       "      <td>8</td>\n",
       "      <td>Thomas</td>\n",
       "      <td>698</td>\n",
       "      <td>3</td>\n",
       "    </tr>\n",
       "  </tbody>\n",
       "</table>\n",
       "</div>"
      ],
      "text/plain": [
       "   user_id user_username  movie_id  rating\n",
       "0        2       William      1768       1\n",
       "1        3         James       615       3\n",
       "2        7        Joseph        82       3\n",
       "3        7        Joseph       532       3\n",
       "4        8        Thomas       698       3"
      ]
     },
     "execution_count": 4,
     "metadata": {},
     "output_type": "execute_result"
    }
   ],
   "source": [
    "ratings_data = pd.read_csv(\"ratings.csv\")\n",
    "ratings_data.head()"
   ]
  },
  {
   "cell_type": "markdown",
   "metadata": {},
   "source": [
    "**Description of the dataset :** \n",
    "- userId, to characterize the users \n",
    "- movieId, to characterize the movies\n",
    "- rating : the rating of the user to the corresponding movie. Ratings are going from 1 to 5 but here we will only use the seen / not seen information to provide movie recommendations.  \n",
    "- timestamp : we will not be using this column\n",
    "\n",
    "More information about the movies are available in the \"movies.csv\" dataset : the movieId gives us access to the corresponding movie information such as the title and the genres. "
   ]
  },
  {
   "cell_type": "code",
   "execution_count": 5,
   "metadata": {},
   "outputs": [
    {
     "data": {
      "text/html": [
       "<div>\n",
       "<style scoped>\n",
       "    .dataframe tbody tr th:only-of-type {\n",
       "        vertical-align: middle;\n",
       "    }\n",
       "\n",
       "    .dataframe tbody tr th {\n",
       "        vertical-align: top;\n",
       "    }\n",
       "\n",
       "    .dataframe thead th {\n",
       "        text-align: right;\n",
       "    }\n",
       "</style>\n",
       "<table border=\"1\" class=\"dataframe\">\n",
       "  <thead>\n",
       "    <tr style=\"text-align: right;\">\n",
       "      <th></th>\n",
       "      <th>movieId</th>\n",
       "      <th>title</th>\n",
       "      <th>genres</th>\n",
       "    </tr>\n",
       "  </thead>\n",
       "  <tbody>\n",
       "    <tr>\n",
       "      <th>0</th>\n",
       "      <td>1</td>\n",
       "      <td>Toy Story (1995)</td>\n",
       "      <td>Adventure|Animation|Children|Comedy|Fantasy</td>\n",
       "    </tr>\n",
       "    <tr>\n",
       "      <th>1</th>\n",
       "      <td>2</td>\n",
       "      <td>Jumanji (1995)</td>\n",
       "      <td>Adventure|Children|Fantasy</td>\n",
       "    </tr>\n",
       "    <tr>\n",
       "      <th>2</th>\n",
       "      <td>3</td>\n",
       "      <td>Grumpier Old Men (1995)</td>\n",
       "      <td>Comedy|Romance</td>\n",
       "    </tr>\n",
       "    <tr>\n",
       "      <th>3</th>\n",
       "      <td>4</td>\n",
       "      <td>Waiting to Exhale (1995)</td>\n",
       "      <td>Comedy|Drama|Romance</td>\n",
       "    </tr>\n",
       "    <tr>\n",
       "      <th>4</th>\n",
       "      <td>5</td>\n",
       "      <td>Father of the Bride Part II (1995)</td>\n",
       "      <td>Comedy</td>\n",
       "    </tr>\n",
       "  </tbody>\n",
       "</table>\n",
       "</div>"
      ],
      "text/plain": [
       "   movieId                               title  \\\n",
       "0        1                    Toy Story (1995)   \n",
       "1        2                      Jumanji (1995)   \n",
       "2        3             Grumpier Old Men (1995)   \n",
       "3        4            Waiting to Exhale (1995)   \n",
       "4        5  Father of the Bride Part II (1995)   \n",
       "\n",
       "                                        genres  \n",
       "0  Adventure|Animation|Children|Comedy|Fantasy  \n",
       "1                   Adventure|Children|Fantasy  \n",
       "2                               Comedy|Romance  \n",
       "3                         Comedy|Drama|Romance  \n",
       "4                                       Comedy  "
      ]
     },
     "execution_count": 5,
     "metadata": {},
     "output_type": "execute_result"
    }
   ],
   "source": [
    "movies = pd.read_csv(\"movies.csv\")\n",
    "movies.head()"
   ]
  },
  {
   "cell_type": "code",
   "execution_count": 21,
   "metadata": {},
   "outputs": [
    {
     "data": {
      "text/plain": [
       "(9742, 3)"
      ]
     },
     "execution_count": 21,
     "metadata": {},
     "output_type": "execute_result"
    }
   ],
   "source": [
    "movies.shape"
   ]
  },
  {
   "cell_type": "markdown",
   "metadata": {},
   "source": [
    "### Create a Spark environment"
   ]
  },
  {
   "cell_type": "markdown",
   "metadata": {},
   "source": [
    "!sudo hostname"
   ]
  },
  {
   "cell_type": "code",
   "execution_count": 7,
   "metadata": {},
   "outputs": [],
   "source": [
    "sc = pyspark.SparkContext()"
   ]
  },
  {
   "cell_type": "markdown",
   "metadata": {},
   "source": [
    "To be able to implement the PLSI algorithm in Spark, we will need to transform the dataset into an RDD, and then perform pyspark operations on it. "
   ]
  },
  {
   "cell_type": "code",
   "execution_count": 8,
   "metadata": {},
   "outputs": [
    {
     "data": {
      "text/plain": [
       "['2,William,1768,1',\n",
       " '3,James,615,3',\n",
       " '7,Joseph,82,3',\n",
       " '7,Joseph,532,3',\n",
       " '8,Thomas,698,3',\n",
       " '10,Robert,1693,3',\n",
       " '11,Edward,615,1',\n",
       " '18,David,1,3',\n",
       " '18,David,28,3',\n",
       " '18,David,1596,5']"
      ]
     },
     "execution_count": 8,
     "metadata": {},
     "output_type": "execute_result"
    }
   ],
   "source": [
    "rdd = sc.textFile(\"ratings.csv\")\n",
    "\n",
    "#Remove header line \n",
    "header = rdd.first()\n",
    "rdd = rdd.filter(lambda x: x != header)\n",
    "\n",
    "rdd.collect()[0:10]"
   ]
  },
  {
   "cell_type": "code",
   "execution_count": null,
   "metadata": {},
   "outputs": [],
   "source": [
    "rdd.count()"
   ]
  },
  {
   "cell_type": "markdown",
   "metadata": {},
   "source": [
    "## 2. Probabilistic Latent Semantic Indexing algorithm (PLSI)"
   ]
  },
  {
   "cell_type": "markdown",
   "metadata": {},
   "source": [
    "The PLSI algorithm that we will implement here is based on Das description of the Google News recommendation system. The algorithm is based on the following model : \n",
    "- u (users) and s (movies) are random variables \n",
    "- The relationship between users and movies is learned by modeling the joint distribution of users and items as a mixture distribution \n",
    "- To capture this relationship, we introduce a hidden variable z (latent variable), that kind of represents user communities (same preferences) and movie communities (sames genres). \n",
    "\n",
    "All in all, we try to compute the following probability for each (user, movie) couple : p(s|u) = sum(p(s|z)p(z|u)), which is the probability for a given user to see a given movie. This is obtained by summing for each community the probability for a movie s to be seen given a community z times the probability to be in the community z given a user u. "
   ]
  },
  {
   "cell_type": "markdown",
   "metadata": {},
   "source": [
    "### Going through the algorithm : main steps"
   ]
  },
  {
   "cell_type": "markdown",
   "metadata": {},
   "source": [
    "**INITIALISATION**\n",
    "\n",
    "**E-STEP - Compute q( z | (u,s) ) : the probability that the (user, movie) couple belongs to the class z**\n",
    "This step is first initialized at random :\n",
    "- To each couple (u,s), assign each possible community \n",
    "- Ex with number of classes = 2 : the lines (Marie, Star Wars) and (Gaëlle, Matrix) will give (Marie, Star Wars, 1), (Marie, Star Wars, 2), (Gaëlle, Matrix, 1), (Gaëlle, Matrix, 2)\n",
    "- To each line, assign a random probability. This random probability corresponds to q*( z | (u,s) ). For example if I have (Marie, Star Wars, 1, 0.3), then the probability that the couple (Marie, Star Wars) is in class 1 is 0.3. \n",
    "\n",
    "LogLik = 0\n",
    "\n",
    "**ITERATION**\n",
    "\n",
    "**M-STEP - Compute p(s|z) and p(z|u) based on q( z | (u,s) )**\n",
    "- Compute p(s | z) :  sum the probas associated to every couple (s,z) and divide it by the sum of probas associated to this z\n",
    "- Compute p(z | u) : sum the probas associated to every couple (u,z) and divide by the sum of probas associated to this u\n",
    "\n",
    "**E-STEP - Compute new q( z | (u,s) ) = p(s|z)p(z|u) / ∑p(s|z)p(z|u)**\n",
    "- For each (u,s,z), compute p(s | z) * p(z | u)\n",
    "- For each (u,s), compute ∑ p(s | z)* p(z | u) (summing over z)     ***(this corresponds to p(s|u))***\n",
    "- For each (u,s,z), compute p(s|z)p(z|u) / ∑p(s|z)p(z|u)             ***(this corresponds to the new q( z | (u,s) )***\n",
    "\t    \n",
    "**Update LogLik** = sum( log( ∑ p(s | z) * p(z | u))) = sum( log (p(s | u))\n",
    "\n",
    "**Iterate again until LogLik converges** : this means that it has reached its maximum and we have found the best estimation of p(z | u) and p(s | z).\n",
    "\t    \n",
    "**We can now predict the probability that Gaëlle will watch Star Wars** :\n",
    "p(Star Wars | Gaëlle) = p( 1 | Gaëlle) * p(Star Wars |1) + p(2 | Gaëlle) * p(Star Wars | 2)"
   ]
  },
  {
   "cell_type": "markdown",
   "metadata": {},
   "source": [
    "### Implementing the algorithm "
   ]
  },
  {
   "cell_type": "markdown",
   "metadata": {},
   "source": [
    "Keep only (user, movie) information : "
   ]
  },
  {
   "cell_type": "code",
   "execution_count": null,
   "metadata": {},
   "outputs": [],
   "source": [
    "rdd = rdd.map(lambda line : line.split(',')).map(lambda line : line[0] + ',' + line[2])"
   ]
  },
  {
   "cell_type": "markdown",
   "metadata": {},
   "source": [
    "#### Initialisation of q : (first E-Step)"
   ]
  },
  {
   "cell_type": "markdown",
   "metadata": {},
   "source": [
    "To each couple (u,s), assign each possible community z : "
   ]
  },
  {
   "cell_type": "code",
   "execution_count": null,
   "metadata": {},
   "outputs": [],
   "source": [
    "nb_z = 3 #number of classes\n",
    "classes = sc.parallelize(range(nb_z))\n",
    "classes.collect()\n",
    "rdd = rdd.cartesian(classes)\n",
    "rdd = rdd.distinct()"
   ]
  },
  {
   "cell_type": "code",
   "execution_count": null,
   "metadata": {},
   "outputs": [],
   "source": [
    "ordered_rdd = rdd.map(lambda x: (x[0].split(','), x[1])).sortBy(lambda x : (x[0][0], x[0][1], x[1]))\n",
    "ordered_rdd.count()"
   ]
  },
  {
   "cell_type": "markdown",
   "metadata": {},
   "source": [
    "To each line, assign a random probability :"
   ]
  },
  {
   "cell_type": "code",
   "execution_count": null,
   "metadata": {},
   "outputs": [],
   "source": [
    "proba0 = np.random.rand(int(ordered_rdd.count()/nb_z), nb_z)\n",
    "random_p = (proba0 / np.reshape(proba0.sum(1), (int(ordered_rdd.count()/nb_z), 1))).flatten()\n",
    "random_p = list(random_p)"
   ]
  },
  {
   "cell_type": "code",
   "execution_count": null,
   "metadata": {},
   "outputs": [],
   "source": [
    "q = ordered_rdd.map(lambda x : (x, random_p.pop(0))) "
   ]
  },
  {
   "cell_type": "code",
   "execution_count": null,
   "metadata": {},
   "outputs": [],
   "source": [
    "q.count()"
   ]
  },
  {
   "cell_type": "markdown",
   "metadata": {},
   "source": [
    "#### One iteration step "
   ]
  },
  {
   "cell_type": "markdown",
   "metadata": {},
   "source": [
    "M-STEP - Compute p(s|z) and p(z|u) based on q( z | (u,s) )"
   ]
  },
  {
   "cell_type": "markdown",
   "metadata": {},
   "source": [
    "Compute p(s | z) : sum the probas associated to every couple (s,z) and divide it by the sum of probas associated to this z"
   ]
  },
  {
   "cell_type": "code",
   "execution_count": null,
   "metadata": {},
   "outputs": [],
   "source": [
    "SZ_probas = q.map(lambda x: ((x[0][0][1], x[0][1]), x[1]))"
   ]
  },
  {
   "cell_type": "code",
   "execution_count": null,
   "metadata": {},
   "outputs": [],
   "source": [
    "Nsz = SZ_probas.reduceByKey(lambda x,y: x + y)"
   ]
  },
  {
   "cell_type": "code",
   "execution_count": null,
   "metadata": {},
   "outputs": [],
   "source": [
    "Z_probas = q.map(lambda x: (x[0][1], x[1]))"
   ]
  },
  {
   "cell_type": "code",
   "execution_count": null,
   "metadata": {},
   "outputs": [],
   "source": [
    "Nz = Z_probas.reduceByKey(lambda x,y: x+y)"
   ]
  },
  {
   "cell_type": "code",
   "execution_count": null,
   "metadata": {},
   "outputs": [],
   "source": [
    "Nsz = Nsz.map(lambda x : (x[0][1], (x[0][0], x[1])))"
   ]
  },
  {
   "cell_type": "code",
   "execution_count": null,
   "metadata": {},
   "outputs": [],
   "source": [
    "Psz = Nsz.join(Nz)"
   ]
  },
  {
   "cell_type": "code",
   "execution_count": null,
   "metadata": {},
   "outputs": [],
   "source": [
    "Psz = Psz.map(lambda x : ((x[1][0][0], x[0]), x[1][0][1] / x[1][1]))"
   ]
  },
  {
   "cell_type": "markdown",
   "metadata": {},
   "source": [
    "Compute p(z | u) : sum the probas associated to every couple (u,z) and divide by the sum of probas associated to this u"
   ]
  },
  {
   "cell_type": "code",
   "execution_count": null,
   "metadata": {},
   "outputs": [],
   "source": [
    "ZU_probas = q.map(lambda x: ((x[0][0][0], x[0][1]), x[1]))"
   ]
  },
  {
   "cell_type": "code",
   "execution_count": null,
   "metadata": {},
   "outputs": [],
   "source": [
    "Nzu = ZU_probas.reduceByKey(lambda x,y: x + y)"
   ]
  },
  {
   "cell_type": "code",
   "execution_count": null,
   "metadata": {},
   "outputs": [],
   "source": [
    "U_probas = q.map(lambda x: (x[0][0][0], x[1]))"
   ]
  },
  {
   "cell_type": "code",
   "execution_count": null,
   "metadata": {},
   "outputs": [],
   "source": [
    "Nu = U_probas.reduceByKey(lambda x,y: x+y)"
   ]
  },
  {
   "cell_type": "code",
   "execution_count": null,
   "metadata": {},
   "outputs": [],
   "source": [
    "Nzu = Nzu.map(lambda x : (x[0][0], (x[0][1], x[1])))"
   ]
  },
  {
   "cell_type": "code",
   "execution_count": null,
   "metadata": {},
   "outputs": [],
   "source": [
    "Pzu = Nzu.join(Nu)"
   ]
  },
  {
   "cell_type": "code",
   "execution_count": null,
   "metadata": {},
   "outputs": [],
   "source": [
    "Pzu = Pzu.map(lambda x : ((x[1][0][0], x[0]), x[1][0][1] / x[1][1]))"
   ]
  },
  {
   "cell_type": "markdown",
   "metadata": {},
   "source": [
    "E-STEP - Compute new q( z | (u,s) ) = p(s|z)p(z|u) / ∑p(s|z)p(z|u)"
   ]
  },
  {
   "cell_type": "markdown",
   "metadata": {},
   "source": [
    "For each (u,s,z), compute p(s | z) * p(z | u)"
   ]
  },
  {
   "cell_type": "code",
   "execution_count": null,
   "metadata": {},
   "outputs": [],
   "source": [
    "q_int = q.map(lambda x : ((x[0][1], x[0][0][0]), (x[0][0][1], x[0][1])))"
   ]
  },
  {
   "cell_type": "code",
   "execution_count": null,
   "metadata": {},
   "outputs": [],
   "source": [
    "q_int2 = q_int.join(Pzu)"
   ]
  },
  {
   "cell_type": "code",
   "execution_count": null,
   "metadata": {},
   "outputs": [],
   "source": [
    "q_int3 = q_int2.map(lambda x : (x[1][0], (x[0], x[1][1])))"
   ]
  },
  {
   "cell_type": "code",
   "execution_count": null,
   "metadata": {},
   "outputs": [],
   "source": [
    "PzuPsz = q_int3.join(Psz)"
   ]
  },
  {
   "cell_type": "code",
   "execution_count": null,
   "metadata": {},
   "outputs": [],
   "source": [
    "PzuPsz = PzuPsz.map(lambda x: ((x[1][0][0][1], x[0][0]), (x[0][1], x[1][0][1]*x[1][1])))"
   ]
  },
  {
   "cell_type": "markdown",
   "metadata": {},
   "source": [
    "For each (u,s), compute ∑ p(s | z)* p(z | u) (summing over z) (this corresponds to p(s|u))"
   ]
  },
  {
   "cell_type": "code",
   "execution_count": null,
   "metadata": {},
   "outputs": [],
   "source": [
    "SumPzuPsz = PzuPsz.map(lambda x : (x[0], x[1][1])).reduceByKey(lambda x,y : x+y)"
   ]
  },
  {
   "cell_type": "markdown",
   "metadata": {},
   "source": [
    "For each (u,s,z), compute p(s|z)p(z|u) / ∑p(s|z)p(z|u) (this corresponds to the new q( z | (u,s) )"
   ]
  },
  {
   "cell_type": "code",
   "execution_count": null,
   "metadata": {},
   "outputs": [],
   "source": [
    "q1 = PzuPsz.join(SumPzuPsz)"
   ]
  },
  {
   "cell_type": "code",
   "execution_count": null,
   "metadata": {},
   "outputs": [],
   "source": [
    "q1 = q1.map(lambda x : ((x[0], x[1][0][0]), x[1][0][1]/x[1][1]))"
   ]
  },
  {
   "cell_type": "markdown",
   "metadata": {},
   "source": [
    "Update LogLik = sum( log( ∑ p(s | z) * p(z | u))) = sum( log (p(s | u))"
   ]
  },
  {
   "cell_type": "code",
   "execution_count": null,
   "metadata": {},
   "outputs": [],
   "source": [
    "log = SumPzuPsz.map(lambda x : np.log(x[1]))\n",
    "LogLik = log.reduce(lambda x,y : x+y)"
   ]
  },
  {
   "cell_type": "markdown",
   "metadata": {},
   "source": [
    "End of the iteration step "
   ]
  },
  {
   "cell_type": "markdown",
   "metadata": {},
   "source": [
    "### Full Algorithm "
   ]
  },
  {
   "cell_type": "code",
   "execution_count": null,
   "metadata": {},
   "outputs": [],
   "source": [
    "#Open rdd\n",
    "\n",
    "rdd = sc.textFile(\"ratings.csv\")\n",
    "\n",
    "#Remove header line \n",
    "header = rdd.first()\n",
    "rdd = rdd.filter(lambda x: x != header)\n",
    "\n",
    "#Keep only (user, movie) information\n",
    "rdd = rdd.map(lambda line : line.split(',')).map(lambda line : line[0] + ',' + line[2])\n",
    "\n",
    "#Initialize number of classes and number of iteratins\n",
    "nb_z = 3 \n",
    "nb_iterations = 5\n",
    "\n",
    "#Compute the cartesian product of the (user, movie) couples with the 3 classes\n",
    "classes = sc.parallelize(range(nb_z))\n",
    "classes.collect()\n",
    "rdd = rdd.cartesian(classes)\n",
    "rdd = rdd.distinct()\n",
    "\n",
    "## Initialize q0 ##\n",
    "\n",
    "#Order rdd by user, movie, class\n",
    "ordered_rdd = rdd.map(lambda x: (x[0].split(','), x[1])).sortBy(lambda x : (x[0][0], x[0][1], x[1])) \n",
    "\n",
    "#Create a vector of probabilities that sum to 1 every three probas\n",
    "proba0 = np.random.rand(int(ordered_rdd.count()/nb_z), nb_z)\n",
    "random_p = list((proba0 / np.reshape(proba0.sum(1), (int(ordered_rdd.count()/nb_z), 1))).flatten())\n",
    "\n",
    "#Assign a probability to each triplet (user, movie, class)\n",
    "q = ordered_rdd.map(lambda x : (x, random_p.pop(0))) \n",
    "\n",
    "#Create an empty list to keep track of the LogLikelihood\n",
    "LogLik = []\n",
    "\n",
    "###### Run the EM algorithm on nb_iterations #####\n",
    "\n",
    "for i in range(nb_iterations) : \n",
    "    \n",
    "    #### M-STEP - Compute p(s|z) and p(z|u) based on q( z | (u,s) ) ####\n",
    "    \n",
    "    ## Compute p(s | z) : sum the probas associated to every couple (s,z) and divide it by the sum of probas associated to this z ##\n",
    "    \n",
    "    #Keep the probabilities of all the (movie, class) couples \n",
    "    SZ_probas = q.map(lambda x: ((x[0][0][1], x[0][1]), x[1]))\n",
    "    \n",
    "    #Sum the probabilities for the same (movie, class) couples\n",
    "    Nsz = SZ_probas.reduceByKey(lambda x,y: x + y)\n",
    "    \n",
    "    #Keep the probabilities associated to each class in the rdd and sum the probabilities by class\n",
    "    Z_probas = q.map(lambda x: (x[0][1], x[1]))\n",
    "    Nz = Z_probas.reduceByKey(lambda x,y: x+y)\n",
    "    \n",
    "    #Divide the probability of the (movie, class) couple by the probability of the class\n",
    "    Nsz = Nsz.map(lambda x : (x[0][1], (x[0][0], x[1])))\n",
    "    Psz = Nsz.join(Nz)\n",
    "    Psz = Psz.map(lambda x : ((x[1][0][0], x[0]), x[1][0][1] / x[1][1])) #This gives us p(s | u)\n",
    "    \n",
    "    ## Compute p(z | u) : sum the probas associated to every couple (u,z) and divide by the sum of probas associated to this u ##\n",
    "    \n",
    "    #Same idea : Keep the probabilities of all the (class, user) couples and sum them by couple\n",
    "    ZU_probas = q.map(lambda x: ((x[0][0][0], x[0][1]), x[1]))\n",
    "    Nzu = ZU_probas.reduceByKey(lambda x,y: x + y)\n",
    "    \n",
    "    # Keep the probabilities associated to each user in the rdd and sum the probabilities by user\n",
    "    U_probas = q.map(lambda x: (x[0][0][0], x[1]))\n",
    "    Nu = U_probas.reduceByKey(lambda x,y: x+y)\n",
    "    \n",
    "    #Divide the probability of the (class, user) couple by the probability of the user\n",
    "    Nzu = Nzu.map(lambda x : (x[0][0], (x[0][1], x[1])))\n",
    "    Pzu = Nzu.join(Nu)\n",
    "    Pzu = Pzu.map(lambda x : ((x[1][0][0], x[0]), x[1][0][1] / x[1][1])) #This gives us p(u | z)\n",
    "    \n",
    "    ### E-STEP - Compute new q( z | (u,s) ) = p(s|z)p(z|u) / ∑p(s|z)p(z|u) ###\n",
    "    \n",
    "    ## For each (u,s,z), compute p(s | z) * p(z | u) ##\n",
    "    \n",
    "    #Here we want to join Pzu and Psz : to each triplet (u,s,z), we want to associate p(z|u) and p(s|z) (computed above)\n",
    "    #We create couples (z,u) and (s,z) for each triplet (u,s,z) and change their places to make the join with Pzu and Psz possible\n",
    "    \n",
    "    q_int = q.map(lambda x : ((x[0][1], x[0][0][0]), (x[0][0][1], x[0][1])))\n",
    "    q_int2 = q_int.join(Pzu)\n",
    "    q_int3 = q_int2.map(lambda x : (x[1][0], (x[0], x[1][1])))\n",
    "    PzuPsz = q_int3.join(Psz)\n",
    "    \n",
    "    #We now multiply p(z|u) and p(s|z) to obtain p(s|u)\n",
    "    PzuPsz = PzuPsz.map(lambda x: ((x[1][0][0][1], x[0][0]), (x[0][1], x[1][0][1]*x[1][1])))\n",
    "    \n",
    "    ## For each (u,s), we compute ∑ p(s | z)* p(z | u) (summing over z) (this corresponds to p(s|u)) ##\n",
    "    SumPzuPsz = PzuPsz.map(lambda x : (x[0], x[1][1])).reduceByKey(lambda x,y : x+y)\n",
    "    \n",
    "    #Update LogLikelihood\n",
    "    log = SumPzuPsz.map(lambda x : np.log(x[1]))\n",
    "    N = SumPzuPsz.count()\n",
    "    L = log.reduce(lambda x,y : x+y)\n",
    "    print(L/N)\n",
    "    LogLik.append(L/N)\n",
    "    \n",
    "    #For each (u,s,z), compute p(s|z)p(z|u) / ∑p(s|z)p(z|u) (this corresponds to the new q( z | (u,s) )\n",
    "    q = PzuPsz.join(SumPzuPsz)\n",
    "    q = q.map(lambda x : ((x[0], x[1][0][0]), x[1][0][1]/x[1][1]))    \n",
    "    \n",
    "    #Persist q\n",
    "    q = q.persist()\n",
    "\n",
    "    "
   ]
  },
  {
   "cell_type": "markdown",
   "metadata": {},
   "source": [
    "### Plot the LogLikelihood"
   ]
  },
  {
   "cell_type": "code",
   "execution_count": null,
   "metadata": {},
   "outputs": [],
   "source": [
    "fig = plt.figure()\n",
    "fig.suptitle('Log-Likelihood', fontsize=20, fontweight='bold')\n",
    "ax = fig.add_subplot(111)\n",
    "ax.set_xlabel('Number of iterations')\n",
    "ax.set_ylabel('Log-Likelihood')\n",
    "ax.plot(LogLik)\n",
    "plt.show()"
   ]
  },
  {
   "cell_type": "markdown",
   "metadata": {},
   "source": [
    "## 3. Build the Recommendation System"
   ]
  },
  {
   "cell_type": "code",
   "execution_count": null,
   "metadata": {},
   "outputs": [],
   "source": [
    "rdd = sc.textFile(\"ratings.csv\")\n",
    "\n",
    "#Remove header line \n",
    "header = rdd.first()\n",
    "rdd = rdd.filter(lambda x: x != header)\n",
    "rdd = rdd.map(lambda line : line.split(','))\n",
    "rdd = rdd.map(lambda line : (line[0], line[2]))"
   ]
  },
  {
   "cell_type": "markdown",
   "metadata": {},
   "source": [
    "Let us build an rdd with every possible combination of (user, movie) so that we can compute the probability that a user has been or will be watching the movie. In order to do so, we will use the hidden variables Z (the classes) that will help us in the computation of the probability. Thus, we need to build an rdd with every possible combination of ((user, movie), class) : "
   ]
  },
  {
   "cell_type": "code",
   "execution_count": null,
   "metadata": {},
   "outputs": [],
   "source": [
    "users = rdd.map(lambda x : x[0])\n",
    "movies = rdd.map(lambda x : x[1])\n",
    "classes = sc.parallelize(range(nb_z))"
   ]
  },
  {
   "cell_type": "code",
   "execution_count": null,
   "metadata": {},
   "outputs": [],
   "source": [
    "data = users.cartesian(movies)\n",
    "data = data.cartesian(classes).map(lambda line : (line[0][0], line[0][1], line[1]))\n",
    "data = data.distinct()"
   ]
  },
  {
   "cell_type": "markdown",
   "metadata": {},
   "source": [
    "We can now compute the probability that a user has been or will be watching a movie using the hidden variables : : p(movie | user) = p(movie | class) * p(class | movie) : "
   ]
  },
  {
   "cell_type": "code",
   "execution_count": null,
   "metadata": {},
   "outputs": [],
   "source": [
    "ordered_data = data.sortBy(lambda x : (x[0], x[1], x[2]))"
   ]
  },
  {
   "cell_type": "code",
   "execution_count": null,
   "metadata": {},
   "outputs": [],
   "source": [
    "couples = ordered_data.map(lambda x : ((x[2], x[0]), (x[1], x[2])))"
   ]
  },
  {
   "cell_type": "code",
   "execution_count": null,
   "metadata": {},
   "outputs": [],
   "source": [
    "probas = couples.join(Pzu).map(lambda x : (x[1][0], (x[0], x[1][1])))"
   ]
  },
  {
   "cell_type": "code",
   "execution_count": null,
   "metadata": {},
   "outputs": [],
   "source": [
    "probas = probas.join(Psz)"
   ]
  },
  {
   "cell_type": "code",
   "execution_count": null,
   "metadata": {},
   "outputs": [],
   "source": [
    "Psu = probas.map(lambda x : (x[1][0][0][1], x[0][0], x[1][0][1]*x[1][1]))"
   ]
  },
  {
   "cell_type": "code",
   "execution_count": null,
   "metadata": {},
   "outputs": [],
   "source": [
    "probs = Psu.map(lambda x : x[2])"
   ]
  },
  {
   "cell_type": "markdown",
   "metadata": {},
   "source": [
    "Let us plot the distribution of the probabilities to see what's going on : "
   ]
  },
  {
   "cell_type": "code",
   "execution_count": null,
   "metadata": {},
   "outputs": [],
   "source": [
    "plt.hist(probs.collect())"
   ]
  },
  {
   "cell_type": "markdown",
   "metadata": {},
   "source": [
    "Given the above plot, we decide to set the treshold at 0.01. If the probability of the movie given the user is higher than 0.01, we can advise this movie to the user. "
   ]
  },
  {
   "cell_type": "code",
   "execution_count": null,
   "metadata": {},
   "outputs": [],
   "source": [
    "def prediction(rdd, threshold):\n",
    "    return(rdd.map(lambda x : (x[0],x[1], x[2] >=threshold)))"
   ]
  },
  {
   "cell_type": "markdown",
   "metadata": {},
   "source": [
    "Here is the final result of our prediction : 'False' indicates that there is very little chance that the user sees that movie, 'True' indicates that the user should see that movie. "
   ]
  },
  {
   "cell_type": "code",
   "execution_count": null,
   "metadata": {},
   "outputs": [],
   "source": [
    "result = prediction(Psu, 0.01)\n",
    "result.collect()[0:10]"
   ]
  }
 ],
 "metadata": {
  "kernelspec": {
   "display_name": "Python 3",
   "language": "python",
   "name": "python3"
  },
  "language_info": {
   "codemirror_mode": {
    "name": "ipython",
    "version": 3
   },
   "file_extension": ".py",
   "mimetype": "text/x-python",
   "name": "python",
   "nbconvert_exporter": "python",
   "pygments_lexer": "ipython3",
   "version": "3.6.6"
  }
 },
 "nbformat": 4,
 "nbformat_minor": 2
}
